{
 "cells": [
  {
   "cell_type": "markdown",
   "metadata": {},
   "source": [
    "# Homework 2\n",
    "1. Import Boston Dataset from sklearn dataset class.\n",
    "2. Explore and analyse raw data.\n",
    "3. Do preprocessing for regression.\n",
    "4. Split your dataset into train and test test (0.7 for train and 0.3 for test).\n",
    "5. Try Ridge and Lasso Regression models with at least 5 different alpha value for each.\n",
    "6. Evaluate the results of all models and choose the best performing model."
   ]
  },
  {
   "cell_type": "code",
   "execution_count": null,
   "metadata": {},
   "outputs": [],
   "source": []
  }
 ],
 "metadata": {
  "kernelspec": {
   "display_name": "Python 3",
   "language": "python",
   "name": "python3"
  },
  "language_info": {
   "codemirror_mode": {
    "name": "ipython",
    "version": 3
   },
   "file_extension": ".py",
   "mimetype": "text/x-python",
   "name": "python",
   "nbconvert_exporter": "python",
   "pygments_lexer": "ipython3",
   "version": "3.8.5"
  }
 },
 "nbformat": 4,
 "nbformat_minor": 4
}

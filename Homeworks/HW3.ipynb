{
 "cells": [
  {
   "cell_type": "markdown",
   "metadata": {},
   "source": [
    "# Homework 3 (07/01/2021)\n",
    "\n",
    "1. Generate dataset using make_blobs function in the sklearn.datasets class. Generate 2000 samples with 3 features (X) with one label (y).\n",
    "2. Explore and analyse raw data.\n",
    "3. Do preprocessing for classification.\n",
    "4. Split your dataset into train and test test (0.7 for train and 0.3 for test).\n",
    "5. Try Decision Tree and XGBoost Algorithm with different hyperparameters. (Using GridSearchCV is a plus)\n",
    "6. Evaluate your result on both train and test set. Analyse if there is any underfitting or overfitting problem. Make your comments."
   ]
  }
 ],
 "metadata": {
  "kernelspec": {
   "display_name": "Python 3",
   "language": "python",
   "name": "python3"
  },
  "language_info": {
   "codemirror_mode": {
    "name": "ipython",
    "version": 3
   },
   "file_extension": ".py",
   "mimetype": "text/x-python",
   "name": "python",
   "nbconvert_exporter": "python",
   "pygments_lexer": "ipython3",
   "version": "3.8.5"
  }
 },
 "nbformat": 4,
 "nbformat_minor": 4
}

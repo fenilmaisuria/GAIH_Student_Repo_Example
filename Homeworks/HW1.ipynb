{
 "cells": [
  {
   "cell_type": "markdown",
   "metadata": {},
   "source": [
    "# Homework 1 (05/01/2021)\n",
    "1. How would you define Machine Learning?\n",
    "2. What are the differences between Supervised and Unsupervised Learning? Specify example 3 algorithms for each of these.\n",
    "3. What are the test and validation set, and why would you want to use them?\n",
    "4. What are the main preprocessing steps? Explain them in detail. Why we need to prepare our data?\n",
    "5. How you can explore countionus and discrete variables?\n",
    "6. Analyse the plot given below. (What is the plot and variable type, check the distribution and make comment about how you can preproccess it.)"
   ]
  },
  {
   "cell_type": "markdown",
   "metadata": {},
   "source": [
    "![title](src/download.png)"
   ]
  },
  {
   "cell_type": "markdown",
   "metadata": {},
   "source": [
    "## 1. How would you define Machine Learning?\n"
   ]
  },
  {
   "cell_type": "markdown",
   "metadata": {},
   "source": [
    "- Machine learning is a subset of AI.\n",
    "\n",
    "- Machine Learning (ML) is basically that field of computer science with the help of which computer systems can provide sense to data in much the same way as human beings do.\n",
    "\n",
    "- Machine Learning is a program that analyses data and learns to predict the outcome."
   ]
  },
  {
   "cell_type": "markdown",
   "metadata": {},
   "source": [
    "## 2. What are the differences between Supervised and Unsupervised Learning? Specify example 3 algorithms for each of these."
   ]
  },
  {
   "cell_type": "markdown",
   "metadata": {},
   "source": [
    "#### **- Supervised Learning**\n",
    "\n",
    "- The machine learns by using **Labeled data**.\n",
    "\n",
    "- Supervised learning is the learning of the model where with input variable ( say, x) and an output variable (say, Y) and an algorithm to map the input to the output.\n",
    "\n",
    "- Divided into two types Regression and Classification\n",
    "\n",
    "- Algorithms\n",
    "```\n",
    "Linear Regression\n",
    "Logistic Regression\n",
    "Support Vector Machine\n",
    "```\n",
    "\n",
    "#### **- Unsupervised Learning**\n",
    "\n",
    "- The machine is trained on **Unlabelled data** without any guidence\n",
    "\n",
    "- Unsupervised learning is where only the input data (say, X) is present and no corresponding output variable is there.\n",
    "\n",
    "- Divided into three types Clustering, Association and Dimensionality Reduction\n",
    "\n",
    "- Algorithms\n",
    "```\n",
    "K-Means\n",
    "C-Means\n",
    "Principal Component Analysis\n",
    "```"
   ]
  },
  {
   "cell_type": "markdown",
   "metadata": {},
   "source": [
    "## 3. What are the test and validation set, and why would you want to use them?"
   ]
  },
  {
   "cell_type": "markdown",
   "metadata": {},
   "source": [
    "**Training Dataset:** \n",
    "- The sample of data used to fit the model.\n",
    "- To tarin the model\n",
    "\n",
    "**Validation Dataset:** \n",
    "- The sample of data used to provide an unbiased evaluation of a model fit on the training dataset while tuning model hyperparameters. \n",
    "- The evaluation becomes more biased as skill on the validation dataset is incorporated into the model configuration.\n",
    "- To make sure the models are not overfitting\n",
    "\n",
    "**Test Dataset:** \n",
    "- The sample of data used to provide an unbiased evaluation of a final model fit on the training dataset.\n",
    "- To determine the accuracy of the models"
   ]
  },
  {
   "cell_type": "markdown",
   "metadata": {},
   "source": [
    "## 4. What are the main preprocessing steps? Explain them in detail. Why we need to prepare our data?"
   ]
  },
  {
   "cell_type": "markdown",
   "metadata": {},
   "source": [
    "Data Preprocessing is a data mining technique which is used to transform the raw data in a useful and efficient format\n",
    "\n",
    "1. Data Cleaning: The data can have many irrelevant and missing parts. To handle this part, data cleaning is done. It involves handling of missing data, noisy data etc.\n",
    "\n",
    "- Missing Data: This situation arises when some data is missing in the data. It can be handled in various ways.\n",
    "    - Ignore the tuples:\n",
    "    - Fill the Missing values:\n",
    "\n",
    "\n",
    "- Noisy Data: Noisy data is a meaningless data that can’t be interpreted by machines.It can be generated due to faulty data collection, data entry errors etc. It can be handled in following ways :\n",
    "    - Binning Method:\n",
    "    - Regression:\n",
    "    - Clustering:\n",
    "\n",
    "\n",
    "2. Data Transformation: This step is taken in order to transform the data in appropriate forms suitable for mining process. This involves following ways:\n",
    "- Normalization:It is done in order to scale the data values in a specified range (-1.0 to 1.0 or 0.0 to 1.0)\n",
    "- Attribute Selection:In this strategy, new attributes are constructed from the given set of attributes to help the mining process.\n",
    "- Discretization:This is done to replace the raw values of numeric attribute by interval levels or conceptual levels.\n",
    "- Concept Hierarchy Generation:Here attributes are converted from level to higher level in hierarchy. For Example-The attribute “city” can be converted to “country”.\n",
    "\n",
    "3. Data Reduction: Since data mining is a technique that is used to handle huge amount of data. While working with huge volume of data, analysis became harder in such cases. In order to get rid of this, we uses data reduction technique. It aims to increase the storage efficiency and reduce data storage and analysis costs.\n",
    "\n",
    "- Data Cube Aggregation:\n",
    "- Attribute Subset Selection:\n",
    "- Numerosity Reduction:\n",
    "- Dimensionality Reduction:\n"
   ]
  },
  {
   "cell_type": "markdown",
   "metadata": {},
   "source": [
    "## 5. How you can explore countionus and discrete variables?"
   ]
  },
  {
   "cell_type": "markdown",
   "metadata": {},
   "source": [
    "### Countionus Variable\n",
    "- A set of data is said to be continuous if the values belonging to the set can take on ANY value within a finite or infinite interval.\n",
    "- Continuous data usually requires a measuring device. (Ruler, stop watch, thermometer, speedometer, etc.)\n",
    "- Function: In the graph of a continuous function, the points are connected with a continuous line, since every point has meaning to the original problem.\n",
    "- Graph: You can draw a continuous function without lifting your pencil from your paper.\n",
    "- Examples:     \n",
    "     - height of students in class\n",
    "     - weight of students in class\n",
    "     - time it takes to get to school\n",
    "     - distance traveled between classes\n",
    "\n",
    "### Discrete Variable     \n",
    "- A set of data is said to be discrete if the values belonging to the set are distinct and separate (unconnected values).\n",
    "- Discrete data is counted. The description of the task is usually preceded by the words \"number of...\"\n",
    "- Function: In the graph of a discrete function, only separate, distinct points are plotted, and only these points have meaning to the original problem.\n",
    "- Graph: A discrete graph is a series of unconnected points (a scatter plot).\n",
    "- Examples:     \n",
    "     - number of students present\n",
    "     - number of red marbles in a jar\n",
    "     - number of heads when flipping three coins\n",
    "     - students’ grade level\n",
    "\n",
    "#### When graphing a function, especially one related to a real-world situation, it is important to choose an appropriate domain (x-values) for the graph."
   ]
  },
  {
   "cell_type": "markdown",
   "metadata": {},
   "source": [
    "## 6. Analyse the plot given below. (What is the plot and variable type, check the distribution and make comment about how you can preproccess it.)\n",
    "![title](src/download.png)"
   ]
  },
  {
   "cell_type": "markdown",
   "metadata": {},
   "source": [
    "- Plot - Histogram\n",
    "- Variable Type - Continuous variable\n",
    "- preproccess\n",
    "    - Add Missing Value(Median)\n",
    "    - Outlier Detection(Standard Deviation) \n",
    "    - Feature Scalling(Nomalisation)\n"
   ]
  }
 ],
 "metadata": {
  "kernelspec": {
   "display_name": "Python 3",
   "language": "python",
   "name": "python3"
  },
  "language_info": {
   "codemirror_mode": {
    "name": "ipython",
    "version": 3
   },
   "file_extension": ".py",
   "mimetype": "text/x-python",
   "name": "python",
   "nbconvert_exporter": "python",
   "pygments_lexer": "ipython3",
   "version": "3.8.5"
  }
 },
 "nbformat": 4,
 "nbformat_minor": 4
}
